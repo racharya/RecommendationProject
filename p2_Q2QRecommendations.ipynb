{
 "cells": [
  {
   "cell_type": "code",
   "execution_count": 1,
   "metadata": {},
   "outputs": [
    {
     "name": "stderr",
     "output_type": "stream",
     "text": [
      "Loading tidyverse: ggplot2\n",
      "Loading tidyverse: tibble\n",
      "Loading tidyverse: tidyr\n",
      "Loading tidyverse: readr\n",
      "Loading tidyverse: purrr\n",
      "Loading tidyverse: dplyr\n",
      "Conflicts with tidy packages ---------------------------------------------------\n",
      "filter(): dplyr, stats\n",
      "lag():    dplyr, stats\n"
     ]
    }
   ],
   "source": [
    "library(tidyverse)\n",
    "library(readr)\n",
    "library(dplyr)\n",
    "library(tidytext)"
   ]
  },
  {
   "cell_type": "code",
   "execution_count": 7,
   "metadata": {},
   "outputs": [
    {
     "name": "stderr",
     "output_type": "stream",
     "text": [
      "Parsed with column specification:\n",
      "cols(\n",
      "  id = col_integer(),\n",
      "  qid1 = col_integer(),\n",
      "  qid2 = col_integer(),\n",
      "  question1 = col_character(),\n",
      "  question2 = col_character(),\n",
      "  is_duplicate = col_integer()\n",
      ")\n"
     ]
    }
   ],
   "source": [
    "original_data <- read_csv('./train.csv')"
   ]
  },
  {
   "cell_type": "code",
   "execution_count": 8,
   "metadata": {},
   "outputs": [
    {
     "data": {
      "text/html": [
       "<table>\n",
       "<thead><tr><th scope=col>id</th><th scope=col>qid1</th><th scope=col>qid2</th><th scope=col>question1</th><th scope=col>question2</th><th scope=col>is_duplicate</th></tr></thead>\n",
       "<tbody>\n",
       "\t<tr><td>0                                                                                         </td><td> 1                                                                                        </td><td> 2                                                                                        </td><td>What is the step by step guide to invest in share market in india?                        </td><td>What is the step by step guide to invest in share market?                                 </td><td>0                                                                                         </td></tr>\n",
       "\t<tr><td>1                                                                                         </td><td> 3                                                                                        </td><td> 4                                                                                        </td><td>What is the story of Kohinoor (Koh-i-Noor) Diamond?                                       </td><td>What would happen if the Indian government stole the Kohinoor (Koh-i-Noor) diamond back?  </td><td>0                                                                                         </td></tr>\n",
       "\t<tr><td>2                                                                                         </td><td> 5                                                                                        </td><td> 6                                                                                        </td><td>How can I increase the speed of my internet connection while using a VPN?                 </td><td>How can Internet speed be increased by hacking through DNS?                               </td><td>0                                                                                         </td></tr>\n",
       "\t<tr><td>3                                                                                         </td><td> 7                                                                                        </td><td> 8                                                                                        </td><td>Why am I mentally very lonely? How can I solve it?                                        </td><td>Find the remainder when [math]23^{24}[/math] is divided by 24,23?                         </td><td>0                                                                                         </td></tr>\n",
       "\t<tr><td>4                                                                                         </td><td> 9                                                                                        </td><td>10                                                                                        </td><td>Which one dissolve in water quikly sugar, salt, methane and carbon di oxide?              </td><td>Which fish would survive in salt water?                                                   </td><td>0                                                                                         </td></tr>\n",
       "\t<tr><td>5                                                                                         </td><td>11                                                                                        </td><td>12                                                                                        </td><td>Astrology: I am a Capricorn Sun Cap moon and cap rising...what does that say about me?    </td><td>I'm a triple Capricorn (Sun, Moon and ascendant in Capricorn) What does this say about me?</td><td>1                                                                                         </td></tr>\n",
       "</tbody>\n",
       "</table>\n"
      ],
      "text/latex": [
       "\\begin{tabular}{r|llllll}\n",
       " id & qid1 & qid2 & question1 & question2 & is\\_duplicate\\\\\n",
       "\\hline\n",
       "\t 0                                                                                          &  1                                                                                         &  2                                                                                         & What is the step by step guide to invest in share market in india?                         & What is the step by step guide to invest in share market?                                  & 0                                                                                         \\\\\n",
       "\t 1                                                                                          &  3                                                                                         &  4                                                                                         & What is the story of Kohinoor (Koh-i-Noor) Diamond?                                        & What would happen if the Indian government stole the Kohinoor (Koh-i-Noor) diamond back?   & 0                                                                                         \\\\\n",
       "\t 2                                                                                          &  5                                                                                         &  6                                                                                         & How can I increase the speed of my internet connection while using a VPN?                  & How can Internet speed be increased by hacking through DNS?                                & 0                                                                                         \\\\\n",
       "\t 3                                                                                                                        &  7                                                                                                                       &  8                                                                                                                       & Why am I mentally very lonely? How can I solve it?                                                                       & Find the remainder when {[}math{]}23\\textasciicircum{}\\{24\\}{[}/math{]} is divided by 24,23?                          & 0                                                                                                                       \\\\\n",
       "\t 4                                                                                          &  9                                                                                         & 10                                                                                         & Which one dissolve in water quikly sugar, salt, methane and carbon di oxide?               & Which fish would survive in salt water?                                                    & 0                                                                                         \\\\\n",
       "\t 5                                                                                          & 11                                                                                         & 12                                                                                         & Astrology: I am a Capricorn Sun Cap moon and cap rising...what does that say about me?     & I'm a triple Capricorn (Sun, Moon and ascendant in Capricorn) What does this say about me? & 1                                                                                         \\\\\n",
       "\\end{tabular}\n"
      ],
      "text/markdown": [
       "\n",
       "id | qid1 | qid2 | question1 | question2 | is_duplicate | \n",
       "|---|---|---|---|---|---|\n",
       "| 0                                                                                          |  1                                                                                         |  2                                                                                         | What is the step by step guide to invest in share market in india?                         | What is the step by step guide to invest in share market?                                  | 0                                                                                          | \n",
       "| 1                                                                                          |  3                                                                                         |  4                                                                                         | What is the story of Kohinoor (Koh-i-Noor) Diamond?                                        | What would happen if the Indian government stole the Kohinoor (Koh-i-Noor) diamond back?   | 0                                                                                          | \n",
       "| 2                                                                                          |  5                                                                                         |  6                                                                                         | How can I increase the speed of my internet connection while using a VPN?                  | How can Internet speed be increased by hacking through DNS?                                | 0                                                                                          | \n",
       "| 3                                                                                          |  7                                                                                         |  8                                                                                         | Why am I mentally very lonely? How can I solve it?                                         | Find the remainder when [math]23^{24}[/math] is divided by 24,23?                          | 0                                                                                          | \n",
       "| 4                                                                                          |  9                                                                                         | 10                                                                                         | Which one dissolve in water quikly sugar, salt, methane and carbon di oxide?               | Which fish would survive in salt water?                                                    | 0                                                                                          | \n",
       "| 5                                                                                          | 11                                                                                         | 12                                                                                         | Astrology: I am a Capricorn Sun Cap moon and cap rising...what does that say about me?     | I'm a triple Capricorn (Sun, Moon and ascendant in Capricorn) What does this say about me? | 1                                                                                          | \n",
       "\n",
       "\n"
      ],
      "text/plain": [
       "  id qid1 qid2\n",
       "1 0   1    2  \n",
       "2 1   3    4  \n",
       "3 2   5    6  \n",
       "4 3   7    8  \n",
       "5 4   9   10  \n",
       "6 5  11   12  \n",
       "  question1                                                                             \n",
       "1 What is the step by step guide to invest in share market in india?                    \n",
       "2 What is the story of Kohinoor (Koh-i-Noor) Diamond?                                   \n",
       "3 How can I increase the speed of my internet connection while using a VPN?             \n",
       "4 Why am I mentally very lonely? How can I solve it?                                    \n",
       "5 Which one dissolve in water quikly sugar, salt, methane and carbon di oxide?          \n",
       "6 Astrology: I am a Capricorn Sun Cap moon and cap rising...what does that say about me?\n",
       "  question2                                                                                 \n",
       "1 What is the step by step guide to invest in share market?                                 \n",
       "2 What would happen if the Indian government stole the Kohinoor (Koh-i-Noor) diamond back?  \n",
       "3 How can Internet speed be increased by hacking through DNS?                               \n",
       "4 Find the remainder when [math]23^{24}[/math] is divided by 24,23?                         \n",
       "5 Which fish would survive in salt water?                                                   \n",
       "6 I'm a triple Capricorn (Sun, Moon and ascendant in Capricorn) What does this say about me?\n",
       "  is_duplicate\n",
       "1 0           \n",
       "2 0           \n",
       "3 0           \n",
       "4 0           \n",
       "5 0           \n",
       "6 1           "
      ]
     },
     "metadata": {},
     "output_type": "display_data"
    }
   ],
   "source": [
    "head(original_data)"
   ]
  },
  {
   "cell_type": "code",
   "execution_count": 21,
   "metadata": {},
   "outputs": [],
   "source": [
    "#str(original_data)"
   ]
  },
  {
   "cell_type": "code",
   "execution_count": 12,
   "metadata": {
    "collapsed": true
   },
   "outputs": [],
   "source": [
    "# only use the questions that have is_duplicate equal to 1\n",
    "filteredData <- original_data %>%\n",
    "            filter(is_duplicate > 0)"
   ]
  },
  {
   "cell_type": "code",
   "execution_count": 13,
   "metadata": {},
   "outputs": [
    {
     "data": {
      "text/html": [
       "<table>\n",
       "<thead><tr><th scope=col>id</th><th scope=col>qid1</th><th scope=col>qid2</th><th scope=col>question1</th><th scope=col>question2</th><th scope=col>is_duplicate</th></tr></thead>\n",
       "<tbody>\n",
       "\t<tr><td> 5                                                                                           </td><td>11                                                                                           </td><td>12                                                                                           </td><td>Astrology: I am a Capricorn Sun Cap moon and cap rising...what does that say about me?       </td><td>I'm a triple Capricorn (Sun, Moon and ascendant in Capricorn) What does this say about me?   </td><td>1                                                                                            </td></tr>\n",
       "\t<tr><td> 7                                                                                           </td><td>15                                                                                           </td><td>16                                                                                           </td><td>How can I be a good geologist?                                                               </td><td>What should I do to be a great geologist?                                                    </td><td>1                                                                                            </td></tr>\n",
       "\t<tr><td>11                                                                                           </td><td>23                                                                                           </td><td>24                                                                                           </td><td>How do I read and find my YouTube comments?                                                  </td><td>How can I see all my Youtube comments?                                                       </td><td>1                                                                                            </td></tr>\n",
       "\t<tr><td>12                                                                                           </td><td>25                                                                                           </td><td>26                                                                                           </td><td>What can make Physics easy to learn?                                                         </td><td>How can you make physics easy to learn?                                                      </td><td>1                                                                                            </td></tr>\n",
       "\t<tr><td>13                                                                                           </td><td>27                                                                                           </td><td>28                                                                                           </td><td>What was your first sexual experience like?                                                  </td><td>What was your first sexual experience?                                                       </td><td>1                                                                                            </td></tr>\n",
       "\t<tr><td>15                                                                                           </td><td>31                                                                                           </td><td>32                                                                                           </td><td>What would a Trump presidency mean for current international master’s students on an F1 visa?</td><td>How will a Trump presidency affect the students presently in US or planning to study in US?  </td><td>1                                                                                            </td></tr>\n",
       "</tbody>\n",
       "</table>\n"
      ],
      "text/latex": [
       "\\begin{tabular}{r|llllll}\n",
       " id & qid1 & qid2 & question1 & question2 & is\\_duplicate\\\\\n",
       "\\hline\n",
       "\t  5                                                                                            & 11                                                                                            & 12                                                                                            & Astrology: I am a Capricorn Sun Cap moon and cap rising...what does that say about me?        & I'm a triple Capricorn (Sun, Moon and ascendant in Capricorn) What does this say about me?    & 1                                                                                            \\\\\n",
       "\t  7                                                                                            & 15                                                                                            & 16                                                                                            & How can I be a good geologist?                                                                & What should I do to be a great geologist?                                                     & 1                                                                                            \\\\\n",
       "\t 11                                                                                            & 23                                                                                            & 24                                                                                            & How do I read and find my YouTube comments?                                                   & How can I see all my Youtube comments?                                                        & 1                                                                                            \\\\\n",
       "\t 12                                                                                            & 25                                                                                            & 26                                                                                            & What can make Physics easy to learn?                                                          & How can you make physics easy to learn?                                                       & 1                                                                                            \\\\\n",
       "\t 13                                                                                            & 27                                                                                            & 28                                                                                            & What was your first sexual experience like?                                                   & What was your first sexual experience?                                                        & 1                                                                                            \\\\\n",
       "\t 15                                                                                            & 31                                                                                            & 32                                                                                            & What would a Trump presidency mean for current international master’s students on an F1 visa? & How will a Trump presidency affect the students presently in US or planning to study in US?   & 1                                                                                            \\\\\n",
       "\\end{tabular}\n"
      ],
      "text/markdown": [
       "\n",
       "id | qid1 | qid2 | question1 | question2 | is_duplicate | \n",
       "|---|---|---|---|---|---|\n",
       "|  5                                                                                            | 11                                                                                            | 12                                                                                            | Astrology: I am a Capricorn Sun Cap moon and cap rising...what does that say about me?        | I'm a triple Capricorn (Sun, Moon and ascendant in Capricorn) What does this say about me?    | 1                                                                                             | \n",
       "|  7                                                                                            | 15                                                                                            | 16                                                                                            | How can I be a good geologist?                                                                | What should I do to be a great geologist?                                                     | 1                                                                                             | \n",
       "| 11                                                                                            | 23                                                                                            | 24                                                                                            | How do I read and find my YouTube comments?                                                   | How can I see all my Youtube comments?                                                        | 1                                                                                             | \n",
       "| 12                                                                                            | 25                                                                                            | 26                                                                                            | What can make Physics easy to learn?                                                          | How can you make physics easy to learn?                                                       | 1                                                                                             | \n",
       "| 13                                                                                            | 27                                                                                            | 28                                                                                            | What was your first sexual experience like?                                                   | What was your first sexual experience?                                                        | 1                                                                                             | \n",
       "| 15                                                                                            | 31                                                                                            | 32                                                                                            | What would a Trump presidency mean for current international master’s students on an F1 visa? | How will a Trump presidency affect the students presently in US or planning to study in US?   | 1                                                                                             | \n",
       "\n",
       "\n"
      ],
      "text/plain": [
       "  id qid1 qid2\n",
       "1  5 11   12  \n",
       "2  7 15   16  \n",
       "3 11 23   24  \n",
       "4 12 25   26  \n",
       "5 13 27   28  \n",
       "6 15 31   32  \n",
       "  question1                                                                                    \n",
       "1 Astrology: I am a Capricorn Sun Cap moon and cap rising...what does that say about me?       \n",
       "2 How can I be a good geologist?                                                               \n",
       "3 How do I read and find my YouTube comments?                                                  \n",
       "4 What can make Physics easy to learn?                                                         \n",
       "5 What was your first sexual experience like?                                                  \n",
       "6 What would a Trump presidency mean for current international master’s students on an F1 visa?\n",
       "  question2                                                                                  \n",
       "1 I'm a triple Capricorn (Sun, Moon and ascendant in Capricorn) What does this say about me? \n",
       "2 What should I do to be a great geologist?                                                  \n",
       "3 How can I see all my Youtube comments?                                                     \n",
       "4 How can you make physics easy to learn?                                                    \n",
       "5 What was your first sexual experience?                                                     \n",
       "6 How will a Trump presidency affect the students presently in US or planning to study in US?\n",
       "  is_duplicate\n",
       "1 1           \n",
       "2 1           \n",
       "3 1           \n",
       "4 1           \n",
       "5 1           \n",
       "6 1           "
      ]
     },
     "metadata": {},
     "output_type": "display_data"
    }
   ],
   "source": [
    "head(filteredData)"
   ]
  },
  {
   "cell_type": "code",
   "execution_count": 14,
   "metadata": {},
   "outputs": [
    {
     "data": {
      "text/html": [
       "111473"
      ],
      "text/latex": [
       "111473"
      ],
      "text/markdown": [
       "111473"
      ],
      "text/plain": [
       "[1] 111473"
      ]
     },
     "metadata": {},
     "output_type": "display_data"
    }
   ],
   "source": [
    "nrow(filteredData)"
   ]
  },
  {
   "cell_type": "markdown",
   "metadata": {},
   "source": [
    "Set aside a portion of filtered data for testing. Say 30%"
   ]
  },
  {
   "cell_type": "code",
   "execution_count": 16,
   "metadata": {},
   "outputs": [
    {
     "data": {
      "text/html": [
       "33441"
      ],
      "text/latex": [
       "33441"
      ],
      "text/markdown": [
       "33441"
      ],
      "text/plain": [
       "[1] 33441"
      ]
     },
     "metadata": {},
     "output_type": "display_data"
    }
   ],
   "source": [
    "forTesting <- sample_n(filteredData, 0.3*nrow(filteredData))\n",
    "nrow(forTesting)"
   ]
  },
  {
   "cell_type": "code",
   "execution_count": 20,
   "metadata": {},
   "outputs": [
    {
     "name": "stderr",
     "output_type": "stream",
     "text": [
      "Joining, by = \"id\"\n"
     ]
    },
    {
     "data": {
      "text/html": [
       "78032"
      ],
      "text/latex": [
       "78032"
      ],
      "text/markdown": [
       "78032"
      ],
      "text/plain": [
       "[1] 78032"
      ]
     },
     "metadata": {},
     "output_type": "display_data"
    }
   ],
   "source": [
    "forTraining <- filteredData %>%\n",
    "            anti_join(select(forTesting, id))\n",
    "nrow(forTraining)"
   ]
  },
  {
   "cell_type": "code",
   "execution_count": null,
   "metadata": {
    "collapsed": true
   },
   "outputs": [],
   "source": []
  }
 ],
 "metadata": {
  "kernelspec": {
   "display_name": "R",
   "language": "R",
   "name": "ir"
  },
  "language_info": {
   "codemirror_mode": "r",
   "file_extension": ".r",
   "mimetype": "text/x-r-source",
   "name": "R",
   "pygments_lexer": "r",
   "version": "3.4.2"
  }
 },
 "nbformat": 4,
 "nbformat_minor": 2
}
